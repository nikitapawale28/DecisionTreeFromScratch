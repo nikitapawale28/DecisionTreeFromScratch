{
  "nbformat": 4,
  "nbformat_minor": 0,
  "metadata": {
    "colab": {
      "provenance": []
    },
    "kernelspec": {
      "name": "python3",
      "display_name": "Python 3"
    },
    "language_info": {
      "name": "python"
    }
  },
  "cells": [
    {
      "cell_type": "code",
      "execution_count": null,
      "metadata": {
        "id": "uDbMH7i6TUIt"
      },
      "outputs": [],
      "source": [
        "import pandas as pd\n",
        "import numpy as np\n",
        "import matplotlib.pyplot as plt"
      ]
    },
    {
      "cell_type": "code",
      "source": [
        "from google.colab import drive\n",
        "drive.mount('/content/drive')"
      ],
      "metadata": {
        "colab": {
          "base_uri": "https://localhost:8080/"
        },
        "id": "U7DhMbUzT-Jd",
        "outputId": "214e9dee-f046-40d0-ff0b-da6df5113bd9"
      },
      "execution_count": null,
      "outputs": [
        {
          "output_type": "stream",
          "name": "stdout",
          "text": [
            "Drive already mounted at /content/drive; to attempt to forcibly remount, call drive.mount(\"/content/drive\", force_remount=True).\n"
          ]
        }
      ]
    },
    {
      "cell_type": "code",
      "source": [
        "cd /content/drive/MyDrive/DecisionTreeAssignment"
      ],
      "metadata": {
        "colab": {
          "base_uri": "https://localhost:8080/"
        },
        "id": "HQykh-MkUMaO",
        "outputId": "a9f3f6ed-cb9b-45b8-f688-f9172962b670"
      },
      "execution_count": null,
      "outputs": [
        {
          "output_type": "stream",
          "name": "stdout",
          "text": [
            "/content/drive/MyDrive/DecisionTreeAssignment\n"
          ]
        }
      ]
    },
    {
      "cell_type": "code",
      "source": [
        "ls"
      ],
      "metadata": {
        "colab": {
          "base_uri": "https://localhost:8080/"
        },
        "id": "Vw1CTUhJUOI0",
        "outputId": "c16c9a9f-0d15-4094-842b-cb8519394472"
      },
      "execution_count": null,
      "outputs": [
        {
          "output_type": "stream",
          "name": "stdout",
          "text": [
            "1.png                    DecisionTreeImplementation.ipynb  restaurant_test.csv\n",
            "decision_tree_graph      restaurant.csv\n",
            "decision_tree_graph.png  restaurant_predict.csv\n"
          ]
        }
      ]
    },
    {
      "cell_type": "code",
      "source": [
        "\n",
        "tree={}\n",
        "featureToWorkOn=None"
      ],
      "metadata": {
        "id": "5Pw0XD07Oasd"
      },
      "execution_count": null,
      "outputs": []
    },
    {
      "cell_type": "code",
      "source": [
        "import pydot\n",
        "import uuid\n",
        "\n",
        "def walk_dictionaryv2(graph, dictionary, parent_node=None):\n",
        "    for k in dictionary.keys():\n",
        "\n",
        "        if parent_node is not None:\n",
        "            from_name = parent_node.get_name().replace(\"\\\"\", \"\") + '_' + str(k)\n",
        "            from_label = str(k)\n",
        "            obj_dict = {}\n",
        "\n",
        "            '''if 'True' in from_label:\n",
        "                node_from = pydot.Node(from_name, color='white', style='filled', fillcolor='green', label=from_label)\n",
        "            elif 'False' in from_label:\n",
        "                node_from = pydot.Node(from_name, color='white', style='filled', fillcolor='red', label=from_label)\n",
        "            else:'''\n",
        "            node_from = pydot.Node(from_name, label=from_label)\n",
        "\n",
        "            graph.add_node(node_from)\n",
        "\n",
        "            # Set edge attributes for child nodes\n",
        "            edge = pydot.Edge(parent_node, node_from, color='blue', style='dashed')\n",
        "            graph.add_edge(edge)\n",
        "\n",
        "            if isinstance(dictionary[k], dict):  # if interim node\n",
        "                walk_dictionaryv2(graph, dictionary[k], node_from)\n",
        "            else:  # if leaf node\n",
        "                to_name = str(uuid.uuid4()) + '_' + str(dictionary[k])  # unique name\n",
        "                to_label = str(dictionary[k])\n",
        "\n",
        "                # Set leaf node color based on the value ('Yes' or 'No')\n",
        "                if to_label == 'No':\n",
        "                    node_to = pydot.Node(to_name, label=to_label, shape='box', color='orange', style='filled')\n",
        "                elif to_label == 'Yes':\n",
        "                    node_to = pydot.Node(to_name, label=to_label, shape='box', color='lightgreen', style='filled')\n",
        "\n",
        "\n",
        "                graph.add_node(node_to)\n",
        "\n",
        "                # Set edge attributes for leaf nodes\n",
        "                edge = pydot.Edge(node_from, node_to, color='black', style='solid', arrowhead='none')\n",
        "                graph.add_edge(edge)\n",
        "        else:\n",
        "            from_name = str(k)\n",
        "            from_label = str(k)\n",
        "\n",
        "            # Set root node attributes\n",
        "            node_from = pydot.Node(from_name, label=from_label, color='purple', style='filled')\n",
        "            walk_dictionaryv2(graph, dictionary[k], node_from)\n",
        "\n",
        "\n",
        "def plot_tree(tree, name):\n",
        "    graph = pydot.Dot(graph_type='graph')\n",
        "    walk_dictionaryv2(graph, tree)\n",
        "    graph.write_png(name + '.png')\n"
      ],
      "metadata": {
        "id": "Wp5PiSqEPvhi"
      },
      "execution_count": null,
      "outputs": []
    },
    {
      "cell_type": "code",
      "source": [
        "def strip_spaces(x):\n",
        "    if isinstance(x, str):\n",
        "        return x.strip()\n",
        "    return x"
      ],
      "metadata": {
        "id": "ksebuciAs2wq"
      },
      "execution_count": null,
      "outputs": []
    },
    {
      "cell_type": "code",
      "source": [
        "import pandas as pd\n",
        "from io import StringIO\n",
        "\n",
        "df = pd.read_csv('/content/drive/MyDrive/DecisionTreeAssignment/restaurant.csv')\n",
        "df = df.applymap(strip_spaces)"
      ],
      "metadata": {
        "id": "Q-t7zAw_UenW"
      },
      "execution_count": null,
      "outputs": []
    },
    {
      "cell_type": "code",
      "source": [
        "def f_entropy_output(data):\n",
        "  Pyes = len(data.loc[data.Output == 'Yes']) / len(data)\n",
        "  Pno = len(data.loc[data.Output == 'No']) / len(data)\n",
        "  return -Pno * np.log2(Pno) - Pyes * np.log2(Pyes)"
      ],
      "metadata": {
        "id": "mWpezRxWWANs"
      },
      "execution_count": null,
      "outputs": []
    },
    {
      "cell_type": "code",
      "source": [
        "def IG(data, column, ent_decision):\n",
        "    IG_decision = ent_decision\n",
        "    for name, temp in data.groupby(column):\n",
        "        p_p = len(temp.loc[temp.Output == 'Yes']) / len(temp)\n",
        "        p_n = len(temp.loc[temp.Output == 'No']) / len(temp)\n",
        "        entropy_decision = 0\n",
        "\n",
        "        if p_p != 0:\n",
        "            entropy_decision -= (p_p) * np.log2(p_p)\n",
        "\n",
        "        if p_n != 0:\n",
        "            entropy_decision -= (p_n) * np.log2(p_n)\n",
        "\n",
        "        IG_decision -= (len(temp) / len(data)) * entropy_decision\n",
        "    return IG_decision"
      ],
      "metadata": {
        "id": "k7agtsmKbIuF"
      },
      "execution_count": null,
      "outputs": []
    },
    {
      "cell_type": "code",
      "source": [
        "def replace_nested_dict_value(dictionary, target_key, new_value):\n",
        "    for key, value in dictionary.items():\n",
        "        if key == target_key:\n",
        "            dictionary[key] = new_value\n",
        "        elif isinstance(value, dict):\n",
        "            replace_nested_dict_value(value, target_key, new_value)"
      ],
      "metadata": {
        "id": "ppjiv0o8bmuN"
      },
      "execution_count": null,
      "outputs": []
    },
    {
      "cell_type": "code",
      "source": [
        "def createTree(featureToWorkOn,max_info_feature,df_next):\n",
        "    subtree={}\n",
        "    subtree[max_info_feature]={}\n",
        "    current_parent=featureToWorkOn\n",
        "\n",
        "    for name, temp in df_next.groupby(max_info_feature):\n",
        "        print('-' * 15)\n",
        "        print(name)\n",
        "        print('-' * 15)\n",
        "        print(temp)\n",
        "        print('-' * 15)\n",
        "        num_unique_values = temp['Output'].nunique()\n",
        "        print(f'Number of unique values of Output for {max_info_feature} when  value of {max_info_feature} is {name} ====>{num_unique_values}')\n",
        "        if(num_unique_values==1):\n",
        "          subtree[max_info_feature][name] = temp['Output'].iloc[0]\n",
        "        else:\n",
        "          featureToWorkOn=name\n",
        "          subtree[max_info_feature][name]={}\n",
        "\n",
        "    for name, temp in df.groupby(max_info_feature):\n",
        "        print(name)\n",
        "        if name not in (subtree[max_info_feature]):\n",
        "            result = df_next['Output'].value_counts()\n",
        "\n",
        "            # Find the maximum count\n",
        "            max_count = result.max()\n",
        "\n",
        "            # Filter the values with the maximum count\n",
        "            values_with_max_count = result[result == max_count].index.tolist()\n",
        "            print(values_with_max_count)\n",
        "            # Check if 'YES' is one of the values with the maximum count\n",
        "            if 'Yes' in values_with_max_count:\n",
        "                max_value = 'Yes'\n",
        "            else:\n",
        "                max_value = values_with_max_count[0]\n",
        "\n",
        "            print(\"Value with maximum instances:\", max_value)\n",
        "\n",
        "            subtree[max_info_feature][name]=max_value\n",
        "\n",
        "    replace_nested_dict_value(tree, current_parent, subtree)\n",
        "    return featureToWorkOn,max_info_feature"
      ],
      "metadata": {
        "id": "mMSgIolJbs4K"
      },
      "execution_count": null,
      "outputs": []
    },
    {
      "cell_type": "code",
      "source": [
        "entropy_decision=f_entropy_output(df)\n",
        "print(entropy_decision)"
      ],
      "metadata": {
        "colab": {
          "base_uri": "https://localhost:8080/"
        },
        "id": "R4iXiK0RX9TT",
        "outputId": "2186e60c-3c3e-4b49-9555-ad1707995641"
      },
      "execution_count": null,
      "outputs": [
        {
          "output_type": "stream",
          "name": "stdout",
          "text": [
            "1.0\n"
          ]
        }
      ]
    },
    {
      "cell_type": "code",
      "source": [
        "max_info_gain = -1\n",
        "max_info_feature = None\n",
        "for col in df.columns[:-1]:\n",
        "    gain = IG(df, col,entropy_decision)\n",
        "    print(f'Gain(Output, {col}) = {gain:0.4f}')\n",
        "    if(gain>max_info_gain):\n",
        "      max_info_gain=gain\n",
        "      max_info_feature=col\n",
        "print(f\"Maximum information feature is {max_info_feature}\")"
      ],
      "metadata": {
        "colab": {
          "base_uri": "https://localhost:8080/"
        },
        "id": "zvmxD3Rrj_OX",
        "outputId": "ff1c6246-a896-40f4-f4c1-0cc8a38507f1"
      },
      "execution_count": null,
      "outputs": [
        {
          "output_type": "stream",
          "name": "stdout",
          "text": [
            "Gain(Output, Alternate) = 0.0000\n",
            "Gain(Output, Bar) = 0.0000\n",
            "Gain(Output, Fri/Sat) = 0.0207\n",
            "Gain(Output, Hungry) = 0.1957\n",
            "Gain(Output, Patrons) = 0.5409\n",
            "Gain(Output, Price) = 0.1957\n",
            "Gain(Output, Raining) = 0.0000\n",
            "Gain(Output, Reservation) = 0.0207\n",
            "Gain(Output, Type) = 0.0000\n",
            "Gain(Output, WaitEstimate) = 0.2075\n",
            "Maximum information feature is Patrons\n"
          ]
        }
      ]
    },
    {
      "cell_type": "code",
      "source": [
        "tree[max_info_feature]={}\n",
        "\n",
        "\n",
        "featureToWorkOn=None\n",
        "for name, temp in df.groupby(max_info_feature):\n",
        "    print('-' * 15)\n",
        "    print(name)\n",
        "    print('-' * 15)\n",
        "    print(temp)\n",
        "    print('-' * 15)\n",
        "    num_unique_values = temp['Output'].nunique()\n",
        "    print(f'Number of unique values of Output for {max_info_feature} when  value of {max_info_feature} is {name} ====>{num_unique_values}')\n",
        "    if(num_unique_values==1):\n",
        "      tree[max_info_feature][name] = temp['Output'].iloc[0]\n",
        "    else:\n",
        "      featureToWorkOn=name\n",
        "      tree[max_info_feature][name]={}\n",
        "current_parent=featureToWorkOn"
      ],
      "metadata": {
        "colab": {
          "base_uri": "https://localhost:8080/"
        },
        "id": "ohYr2_4tlB4X",
        "outputId": "0a7c872b-9f69-4c24-fc84-acbf5e5b2895"
      },
      "execution_count": null,
      "outputs": [
        {
          "output_type": "stream",
          "name": "stdout",
          "text": [
            "---------------\n",
            "Full\n",
            "---------------\n",
            "   Alternate  Bar Fri/Sat Hungry Patrons Price Raining Reservation     Type  \\\n",
            "1        Yes   No      No    Yes    Full     $      No          No     Thai   \n",
            "3        Yes   No     Yes    Yes    Full     $      No          No     Thai   \n",
            "4        Yes   No     Yes     No    Full   $$$      No         Yes   French   \n",
            "8         No  Yes     Yes     No    Full     $     Yes          No   Burger   \n",
            "9        Yes  Yes     Yes    Yes    Full   $$$      No         Yes  Italian   \n",
            "11       Yes  Yes     Yes    Yes    Full     $      No          No   Burger   \n",
            "\n",
            "   WaitEstimate Output  \n",
            "1         30-60     No  \n",
            "3         10-30    Yes  \n",
            "4           >60     No  \n",
            "8           >60     No  \n",
            "9         10-30     No  \n",
            "11        30-60    Yes  \n",
            "---------------\n",
            "Number of unique values of Output for Patrons when  value of Patrons is Full ====>2\n",
            "---------------\n",
            "None\n",
            "---------------\n",
            "   Alternate  Bar Fri/Sat Hungry Patrons Price Raining Reservation    Type  \\\n",
            "6         No  Yes      No     No    None     $     Yes          No  Burger   \n",
            "10        No   No      No     No    None     $      No          No    Thai   \n",
            "\n",
            "   WaitEstimate Output  \n",
            "6          0-10     No  \n",
            "10         0-10     No  \n",
            "---------------\n",
            "Number of unique values of Output for Patrons when  value of Patrons is None ====>1\n",
            "---------------\n",
            "Some\n",
            "---------------\n",
            "  Alternate  Bar Fri/Sat Hungry Patrons Price Raining Reservation     Type  \\\n",
            "0       Yes   No      No    Yes    Some   $$$      No         Yes   French   \n",
            "2        No  Yes      No     No    Some     $      No          No   Burger   \n",
            "5        No  Yes      No    Yes    Some    $$     Yes         Yes  Italian   \n",
            "7        No   No      No    Yes    Some    $$     Yes         Yes     Thai   \n",
            "\n",
            "  WaitEstimate Output  \n",
            "0         0-10    Yes  \n",
            "2         0-10    Yes  \n",
            "5         0-10    Yes  \n",
            "7         0-10    Yes  \n",
            "---------------\n",
            "Number of unique values of Output for Patrons when  value of Patrons is Some ====>1\n"
          ]
        }
      ]
    },
    {
      "cell_type": "code",
      "source": [
        "tree"
      ],
      "metadata": {
        "colab": {
          "base_uri": "https://localhost:8080/"
        },
        "id": "pNr648lYBUSP",
        "outputId": "c8ee2db2-afb5-4d16-8907-09934fd2f9ba"
      },
      "execution_count": null,
      "outputs": [
        {
          "output_type": "execute_result",
          "data": {
            "text/plain": [
              "{'Patrons': {'Full': {}, 'None': 'No', 'Some': 'Yes'}}"
            ]
          },
          "metadata": {},
          "execution_count": 89
        }
      ]
    },
    {
      "cell_type": "code",
      "source": [
        "plot_tree(tree,'1')\n",
        "import matplotlib.pyplot as plt\n",
        "import matplotlib.image as mpimg\n",
        "\n",
        "# Replace 'image_filename.jpg' with the actual filename of your image.\n",
        "image_filename = '/content/drive/MyDrive/DecisionTreeAssignment/1.png'\n",
        "\n",
        "# Load the image using matplotlib.image\n",
        "img = mpimg.imread(image_filename)\n",
        "\n",
        "# Display the image using imshow\n",
        "plt.imshow(img)\n",
        "plt.axis('off')  # Turn off axis ticks and labels for a cleaner display\n",
        "plt.show()"
      ],
      "metadata": {
        "colab": {
          "base_uri": "https://localhost:8080/",
          "height": 406
        },
        "id": "4S2Y64bkBBXM",
        "outputId": "01de621b-0b89-41b6-d056-2973acc0f754"
      },
      "execution_count": null,
      "outputs": [
        {
          "output_type": "display_data",
          "data": {
            "text/plain": [
              "<Figure size 640x480 with 1 Axes>"
            ],
            "image/png": "[encoded data removed]"
          },
          "metadata": {}
        }
      ]
    },
    {
      "cell_type": "code",
      "source": [
        "df_next = df.loc[df.Patrons == featureToWorkOn ]\n",
        "df_next"
      ],
      "metadata": {
        "colab": {
          "base_uri": "https://localhost:8080/",
          "height": 237
        },
        "id": "K_EWuk7mlY2i",
        "outputId": "38c9ef62-7444-451e-a2ef-104ca415beb6"
      },
      "execution_count": null,
      "outputs": [
        {
          "output_type": "execute_result",
          "data": {
            "text/plain": [
              "   Alternate  Bar Fri/Sat Hungry Patrons Price Raining Reservation     Type  \\\n",
              "1        Yes   No      No    Yes    Full     $      No          No     Thai   \n",
              "3        Yes   No     Yes    Yes    Full     $      No          No     Thai   \n",
              "4        Yes   No     Yes     No    Full   $$$      No         Yes   French   \n",
              "8         No  Yes     Yes     No    Full     $     Yes          No   Burger   \n",
              "9        Yes  Yes     Yes    Yes    Full   $$$      No         Yes  Italian   \n",
              "11       Yes  Yes     Yes    Yes    Full     $      No          No   Burger   \n",
              "\n",
              "   WaitEstimate Output  \n",
              "1         30-60     No  \n",
              "3         10-30    Yes  \n",
              "4           >60     No  \n",
              "8           >60     No  \n",
              "9         10-30     No  \n",
              "11        30-60    Yes  "
            ],
            "text/html": [
              "\n",
              "\n",
              "  <div id=\"df-9799dcea-e40b-4b3c-ab3a-b7f6e1bd2830\">\n",
              "    <div class=\"colab-df-container\">\n",
              "      <div>\n",
              "<style scoped>\n",
              "    .dataframe tbody tr th:only-of-type {\n",
              "        vertical-align: middle;\n",
              "    }\n",
              "\n",
              "    .dataframe tbody tr th {\n",
              "        vertical-align: top;\n",
              "    }\n",
              "\n",
              "    .dataframe thead th {\n",
              "        text-align: right;\n",
              "    }\n",
              "</style>\n",
              "<table border=\"1\" class=\"dataframe\">\n",
              "  <thead>\n",
              "    <tr style=\"text-align: right;\">\n",
              "      <th></th>\n",
              "      <th>Alternate</th>\n",
              "      <th>Bar</th>\n",
              "      <th>Fri/Sat</th>\n",
              "      <th>Hungry</th>\n",
              "      <th>Patrons</th>\n",
              "      <th>Price</th>\n",
              "      <th>Raining</th>\n",
              "      <th>Reservation</th>\n",
              "      <th>Type</th>\n",
              "      <th>WaitEstimate</th>\n",
              "      <th>Output</th>\n",
              "    </tr>\n",
              "  </thead>\n",
              "  <tbody>\n",
              "    <tr>\n",
              "      <th>1</th>\n",
              "      <td>Yes</td>\n",
              "      <td>No</td>\n",
              "      <td>No</td>\n",
              "      <td>Yes</td>\n",
              "      <td>Full</td>\n",
              "      <td>$</td>\n",
              "      <td>No</td>\n",
              "      <td>No</td>\n",
              "      <td>Thai</td>\n",
              "      <td>30-60</td>\n",
              "      <td>No</td>\n",
              "    </tr>\n",
              "    <tr>\n",
              "      <th>3</th>\n",
              "      <td>Yes</td>\n",
              "      <td>No</td>\n",
              "      <td>Yes</td>\n",
              "      <td>Yes</td>\n",
              "      <td>Full</td>\n",
              "      <td>$</td>\n",
              "      <td>No</td>\n",
              "      <td>No</td>\n",
              "      <td>Thai</td>\n",
              "      <td>10-30</td>\n",
              "      <td>Yes</td>\n",
              "    </tr>\n",
              "    <tr>\n",
              "      <th>4</th>\n",
              "      <td>Yes</td>\n",
              "      <td>No</td>\n",
              "      <td>Yes</td>\n",
              "      <td>No</td>\n",
              "      <td>Full</td>\n",
              "      <td>$$$</td>\n",
              "      <td>No</td>\n",
              "      <td>Yes</td>\n",
              "      <td>French</td>\n",
              "      <td>&gt;60</td>\n",
              "      <td>No</td>\n",
              "    </tr>\n",
              "    <tr>\n",
              "      <th>8</th>\n",
              "      <td>No</td>\n",
              "      <td>Yes</td>\n",
              "      <td>Yes</td>\n",
              "      <td>No</td>\n",
              "      <td>Full</td>\n",
              "      <td>$</td>\n",
              "      <td>Yes</td>\n",
              "      <td>No</td>\n",
              "      <td>Burger</td>\n",
              "      <td>&gt;60</td>\n",
              "      <td>No</td>\n",
              "    </tr>\n",
              "    <tr>\n",
              "      <th>9</th>\n",
              "      <td>Yes</td>\n",
              "      <td>Yes</td>\n",
              "      <td>Yes</td>\n",
              "      <td>Yes</td>\n",
              "      <td>Full</td>\n",
              "      <td>$$$</td>\n",
              "      <td>No</td>\n",
              "      <td>Yes</td>\n",
              "      <td>Italian</td>\n",
              "      <td>10-30</td>\n",
              "      <td>No</td>\n",
              "    </tr>\n",
              "    <tr>\n",
              "      <th>11</th>\n",
              "      <td>Yes</td>\n",
              "      <td>Yes</td>\n",
              "      <td>Yes</td>\n",
              "      <td>Yes</td>\n",
              "      <td>Full</td>\n",
              "      <td>$</td>\n",
              "      <td>No</td>\n",
              "      <td>No</td>\n",
              "      <td>Burger</td>\n",
              "      <td>30-60</td>\n",
              "      <td>Yes</td>\n",
              "    </tr>\n",
              "  </tbody>\n",
              "</table>\n",
              "</div>\n",
              "      <button class=\"colab-df-convert\" onclick=\"convertToInteractive('df-9799dcea-e40b-4b3c-ab3a-b7f6e1bd2830')\"\n",
              "              title=\"Convert this dataframe to an interactive table.\"\n",
              "              style=\"display:none;\">\n",
              "\n",
              "  <svg xmlns=\"http://www.w3.org/2000/svg\" height=\"24px\"viewBox=\"0 0 24 24\"\n",
              "       width=\"24px\">\n",
              "    <path d=\"M0 0h24v24H0V0z\" fill=\"none\"/>\n",
              "    <path d=\"M18.56 5.44l.94 2.06.94-2.06 2.06-.94-2.06-.94-.94-2.06-.94 2.06-2.06.94zm-11 1L8.5 8.5l.94-2.06 2.06-.94-2.06-.94L8.5 2.5l-.94 2.06-2.06.94zm10 10l.94 2.06.94-2.06 2.06-.94-2.06-.94-.94-2.06-.94 2.06-2.06.94z\"/><path d=\"M17.41 7.96l-1.37-1.37c-.4-.4-.92-.59-1.43-.59-.52 0-1.04.2-1.43.59L10.3 9.45l-7.72 7.72c-.78.78-.78 2.05 0 2.83L4 21.41c.39.39.9.59 1.41.59.51 0 1.02-.2 1.41-.59l7.78-7.78 2.81-2.81c.8-.78.8-2.07 0-2.86zM5.41 20L4 18.59l7.72-7.72 1.47 1.35L5.41 20z\"/>\n",
              "  </svg>\n",
              "      </button>\n",
              "\n",
              "\n",
              "\n",
              "    <div id=\"df-afe60511-15b9-4a70-9618-8cb2f46e2aa4\">\n",
              "      <button class=\"colab-df-quickchart\" onclick=\"quickchart('df-afe60511-15b9-4a70-9618-8cb2f46e2aa4')\"\n",
              "              title=\"Suggest charts.\"\n",
              "              style=\"display:none;\">\n",
              "\n",
              "<svg xmlns=\"http://www.w3.org/2000/svg\" height=\"24px\"viewBox=\"0 0 24 24\"\n",
              "     width=\"24px\">\n",
              "    <g>\n",
              "        <path d=\"M19 3H5c-1.1 0-2 .9-2 2v14c0 1.1.9 2 2 2h14c1.1 0 2-.9 2-2V5c0-1.1-.9-2-2-2zM9 17H7v-7h2v7zm4 0h-2V7h2v10zm4 0h-2v-4h2v4z\"/>\n",
              "    </g>\n",
              "</svg>\n",
              "      </button>\n",
              "    </div>\n",
              "\n",
              "<style>\n",
              "  .colab-df-quickchart {\n",
              "    background-color: #E8F0FE;\n",
              "    border: none;\n",
              "    border-radius: 50%;\n",
              "    cursor: pointer;\n",
              "    display: none;\n",
              "    fill: #1967D2;\n",
              "    height: 32px;\n",
              "    padding: 0 0 0 0;\n",
              "    width: 32px;\n",
              "  }\n",
              "\n",
              "  .colab-df-quickchart:hover {\n",
              "    background-color: #E2EBFA;\n",
              "    box-shadow: 0px 1px 2px rgba(60, 64, 67, 0.3), 0px 1px 3px 1px rgba(60, 64, 67, 0.15);\n",
              "    fill: #174EA6;\n",
              "  }\n",
              "\n",
              "  [theme=dark] .colab-df-quickchart {\n",
              "    background-color: #3B4455;\n",
              "    fill: #D2E3FC;\n",
              "  }\n",
              "\n",
              "  [theme=dark] .colab-df-quickchart:hover {\n",
              "    background-color: #434B5C;\n",
              "    box-shadow: 0px 1px 3px 1px rgba(0, 0, 0, 0.15);\n",
              "    filter: drop-shadow(0px 1px 2px rgba(0, 0, 0, 0.3));\n",
              "    fill: #FFFFFF;\n",
              "  }\n",
              "</style>\n",
              "\n",
              "    <script>\n",
              "      async function quickchart(key) {\n",
              "        const containerElement = document.querySelector('#' + key);\n",
              "        const charts = await google.colab.kernel.invokeFunction(\n",
              "            'suggestCharts', [key], {});\n",
              "      }\n",
              "    </script>\n",
              "\n",
              "      <script>\n",
              "\n",
              "function displayQuickchartButton(domScope) {\n",
              "  let quickchartButtonEl =\n",
              "    domScope.querySelector('#df-afe60511-15b9-4a70-9618-8cb2f46e2aa4 button.colab-df-quickchart');\n",
              "  quickchartButtonEl.style.display =\n",
              "    google.colab.kernel.accessAllowed ? 'block' : 'none';\n",
              "}\n",
              "\n",
              "        displayQuickchartButton(document);\n",
              "      </script>\n",
              "      <style>\n",
              "    .colab-df-container {\n",
              "      display:flex;\n",
              "      flex-wrap:wrap;\n",
              "      gap: 12px;\n",
              "    }\n",
              "\n",
              "    .colab-df-convert {\n",
              "      background-color: #E8F0FE;\n",
              "      border: none;\n",
              "      border-radius: 50%;\n",
              "      cursor: pointer;\n",
              "      display: none;\n",
              "      fill: #1967D2;\n",
              "      height: 32px;\n",
              "      padding: 0 0 0 0;\n",
              "      width: 32px;\n",
              "    }\n",
              "\n",
              "    .colab-df-convert:hover {\n",
              "      background-color: #E2EBFA;\n",
              "      box-shadow: 0px 1px 2px rgba(60, 64, 67, 0.3), 0px 1px 3px 1px rgba(60, 64, 67, 0.15);\n",
              "      fill: #174EA6;\n",
              "    }\n",
              "\n",
              "    [theme=dark] .colab-df-convert {\n",
              "      background-color: #3B4455;\n",
              "      fill: #D2E3FC;\n",
              "    }\n",
              "\n",
              "    [theme=dark] .colab-df-convert:hover {\n",
              "      background-color: #434B5C;\n",
              "      box-shadow: 0px 1px 3px 1px rgba(0, 0, 0, 0.15);\n",
              "      filter: drop-shadow(0px 1px 2px rgba(0, 0, 0, 0.3));\n",
              "      fill: #FFFFFF;\n",
              "    }\n",
              "  </style>\n",
              "\n",
              "      <script>\n",
              "        const buttonEl =\n",
              "          document.querySelector('#df-9799dcea-e40b-4b3c-ab3a-b7f6e1bd2830 button.colab-df-convert');\n",
              "        buttonEl.style.display =\n",
              "          google.colab.kernel.accessAllowed ? 'block' : 'none';\n",
              "\n",
              "        async function convertToInteractive(key) {\n",
              "          const element = document.querySelector('#df-9799dcea-e40b-4b3c-ab3a-b7f6e1bd2830');\n",
              "          const dataTable =\n",
              "            await google.colab.kernel.invokeFunction('convertToInteractive',\n",
              "                                                     [key], {});\n",
              "          if (!dataTable) return;\n",
              "\n",
              "          const docLinkHtml = 'Like what you see? Visit the ' +\n",
              "            '<a target=\"_blank\" href=https://colab.research.google.com/notebooks/data_table.ipynb>data table notebook</a>'\n",
              "            + ' to learn more about interactive tables.';\n",
              "          element.innerHTML = '';\n",
              "          dataTable['output_type'] = 'display_data';\n",
              "          await google.colab.output.renderOutput(dataTable, element);\n",
              "          const docLink = document.createElement('div');\n",
              "          docLink.innerHTML = docLinkHtml;\n",
              "          element.appendChild(docLink);\n",
              "        }\n",
              "      </script>\n",
              "    </div>\n",
              "  </div>\n"
            ]
          },
          "metadata": {},
          "execution_count": 91
        }
      ]
    },
    {
      "cell_type": "code",
      "source": [
        "entropy_decision = f_entropy_output(df_next)\n",
        "entropy_decision=round(entropy_decision,4)\n",
        "print(entropy_decision)"
      ],
      "metadata": {
        "colab": {
          "base_uri": "https://localhost:8080/"
        },
        "id": "2h3eotk0lzOW",
        "outputId": "b89ce486-eeb7-4190-beef-8c0cc65a8495"
      },
      "execution_count": null,
      "outputs": [
        {
          "output_type": "stream",
          "name": "stdout",
          "text": [
            "0.9183\n"
          ]
        }
      ]
    },
    {
      "cell_type": "code",
      "source": [
        "max_info_gain = -1\n",
        "max_info_feature = None\n",
        "for col in df_next.columns[:-1]:\n",
        "    gain = IG(df_next, col,entropy_decision)\n",
        "    gain = round(gain, 4)\n",
        "    print(f'Gain(Output, {col}) = {gain}')\n",
        "    if(gain>max_info_gain):\n",
        "      max_info_gain=gain\n",
        "      max_info_feature=col\n",
        "print(f\"Maximum information feature is {max_info_feature}\")"
      ],
      "metadata": {
        "colab": {
          "base_uri": "https://localhost:8080/"
        },
        "id": "RORb8i6KpFxq",
        "outputId": "2cde68a9-346b-428d-bf1b-c236de3600fb"
      },
      "execution_count": null,
      "outputs": [
        {
          "output_type": "stream",
          "name": "stdout",
          "text": [
            "Gain(Output, Alternate) = 0.1092\n",
            "Gain(Output, Bar) = 0.0\n",
            "Gain(Output, Fri/Sat) = 0.1092\n",
            "Gain(Output, Hungry) = 0.2516\n",
            "Gain(Output, Patrons) = 0.0\n",
            "Gain(Output, Price) = 0.2516\n",
            "Gain(Output, Raining) = 0.1092\n",
            "Gain(Output, Reservation) = 0.2516\n",
            "Gain(Output, Type) = 0.2516\n",
            "Gain(Output, WaitEstimate) = 0.2516\n",
            "Maximum information feature is Hungry\n"
          ]
        }
      ]
    },
    {
      "cell_type": "code",
      "source": [
        "featureToWorkOn,max_info_feature=createTree(featureToWorkOn,max_info_feature,df_next)"
      ],
      "metadata": {
        "colab": {
          "base_uri": "https://localhost:8080/"
        },
        "id": "ipMI6nKtpffP",
        "outputId": "22fc32c8-95e5-4851-b0f3-db1575ae36ba"
      },
      "execution_count": null,
      "outputs": [
        {
          "output_type": "stream",
          "name": "stdout",
          "text": [
            "---------------\n",
            "No\n",
            "---------------\n",
            "  Alternate  Bar Fri/Sat Hungry Patrons Price Raining Reservation    Type  \\\n",
            "4       Yes   No     Yes     No    Full   $$$      No         Yes  French   \n",
            "8        No  Yes     Yes     No    Full     $     Yes          No  Burger   \n",
            "\n",
            "  WaitEstimate Output  \n",
            "4          >60     No  \n",
            "8          >60     No  \n",
            "---------------\n",
            "Number of unique values of Output for Hungry when  value of Hungry is No ====>1\n",
            "---------------\n",
            "Yes\n",
            "---------------\n",
            "   Alternate  Bar Fri/Sat Hungry Patrons Price Raining Reservation     Type  \\\n",
            "1        Yes   No      No    Yes    Full     $      No          No     Thai   \n",
            "3        Yes   No     Yes    Yes    Full     $      No          No     Thai   \n",
            "9        Yes  Yes     Yes    Yes    Full   $$$      No         Yes  Italian   \n",
            "11       Yes  Yes     Yes    Yes    Full     $      No          No   Burger   \n",
            "\n",
            "   WaitEstimate Output  \n",
            "1         30-60     No  \n",
            "3         10-30    Yes  \n",
            "9         10-30     No  \n",
            "11        30-60    Yes  \n",
            "---------------\n",
            "Number of unique values of Output for Hungry when  value of Hungry is Yes ====>2\n",
            "No\n",
            "Yes\n"
          ]
        }
      ]
    },
    {
      "cell_type": "code",
      "source": [
        "tree"
      ],
      "metadata": {
        "colab": {
          "base_uri": "https://localhost:8080/"
        },
        "id": "4HOfWdGCV4ra",
        "outputId": "a1b5ac05-d36c-4fb2-b701-70301f5c6a2b"
      },
      "execution_count": null,
      "outputs": [
        {
          "output_type": "execute_result",
          "data": {
            "text/plain": [
              "{'Patrons': {'Full': {'Hungry': {'No': 'No', 'Yes': {}}},\n",
              "  'None': 'No',\n",
              "  'Some': 'Yes'}}"
            ]
          },
          "metadata": {},
          "execution_count": 95
        }
      ]
    },
    {
      "cell_type": "code",
      "source": [
        "plot_tree(tree,'1')\n",
        "import matplotlib.pyplot as plt\n",
        "import matplotlib.image as mpimg\n",
        "\n",
        "# Replace 'image_filename.jpg' with the actual filename of your image.\n",
        "image_filename = '/content/drive/MyDrive/DecisionTreeAssignment/1.png'\n",
        "\n",
        "# Load the image using matplotlib.image\n",
        "img = mpimg.imread(image_filename)\n",
        "\n",
        "# Display the image using imshow\n",
        "plt.imshow(img)\n",
        "plt.axis('off')  # Turn off axis ticks and labels for a cleaner display\n",
        "plt.show()"
      ],
      "metadata": {
        "colab": {
          "base_uri": "https://localhost:8080/",
          "height": 406
        },
        "id": "hy3tt7O5P1tF",
        "outputId": "f0add1dc-61ec-401c-e3e4-0c2044aed088"
      },
      "execution_count": null,
      "outputs": [
        {
          "output_type": "display_data",
          "data": {
            "text/plain": [
              "<Figure size 640x480 with 1 Axes>"
            ],
            "image/png": "[encoded data removed]"
          },
          "metadata": {}
        }
      ]
    },
    {
      "cell_type": "code",
      "source": [
        "\n",
        "df_next = df_next.loc[df_next.Hungry== featureToWorkOn ]\n",
        "df_next"
      ],
      "metadata": {
        "colab": {
          "base_uri": "https://localhost:8080/",
          "height": 174
        },
        "id": "5dVAXLDCqH86",
        "outputId": "5414ab26-444b-4d01-930e-d3b14160f445"
      },
      "execution_count": null,
      "outputs": [
        {
          "output_type": "execute_result",
          "data": {
            "text/plain": [
              "   Alternate  Bar Fri/Sat Hungry Patrons Price Raining Reservation     Type  \\\n",
              "1        Yes   No      No    Yes    Full     $      No          No     Thai   \n",
              "3        Yes   No     Yes    Yes    Full     $      No          No     Thai   \n",
              "9        Yes  Yes     Yes    Yes    Full   $$$      No         Yes  Italian   \n",
              "11       Yes  Yes     Yes    Yes    Full     $      No          No   Burger   \n",
              "\n",
              "   WaitEstimate Output  \n",
              "1         30-60     No  \n",
              "3         10-30    Yes  \n",
              "9         10-30     No  \n",
              "11        30-60    Yes  "
            ],
            "text/html": [
              "\n",
              "\n",
              "  <div id=\"df-8da51c35-7ce9-41f8-ab47-e297c3395830\">\n",
              "    <div class=\"colab-df-container\">\n",
              "      <div>\n",
              "<style scoped>\n",
              "    .dataframe tbody tr th:only-of-type {\n",
              "        vertical-align: middle;\n",
              "    }\n",
              "\n",
              "    .dataframe tbody tr th {\n",
              "        vertical-align: top;\n",
              "    }\n",
              "\n",
              "    .dataframe thead th {\n",
              "        text-align: right;\n",
              "    }\n",
              "</style>\n",
              "<table border=\"1\" class=\"dataframe\">\n",
              "  <thead>\n",
              "    <tr style=\"text-align: right;\">\n",
              "      <th></th>\n",
              "      <th>Alternate</th>\n",
              "      <th>Bar</th>\n",
              "      <th>Fri/Sat</th>\n",
              "      <th>Hungry</th>\n",
              "      <th>Patrons</th>\n",
              "      <th>Price</th>\n",
              "      <th>Raining</th>\n",
              "      <th>Reservation</th>\n",
              "      <th>Type</th>\n",
              "      <th>WaitEstimate</th>\n",
              "      <th>Output</th>\n",
              "    </tr>\n",
              "  </thead>\n",
              "  <tbody>\n",
              "    <tr>\n",
              "      <th>1</th>\n",
              "      <td>Yes</td>\n",
              "      <td>No</td>\n",
              "      <td>No</td>\n",
              "      <td>Yes</td>\n",
              "      <td>Full</td>\n",
              "      <td>$</td>\n",
              "      <td>No</td>\n",
              "      <td>No</td>\n",
              "      <td>Thai</td>\n",
              "      <td>30-60</td>\n",
              "      <td>No</td>\n",
              "    </tr>\n",
              "    <tr>\n",
              "      <th>3</th>\n",
              "      <td>Yes</td>\n",
              "      <td>No</td>\n",
              "      <td>Yes</td>\n",
              "      <td>Yes</td>\n",
              "      <td>Full</td>\n",
              "      <td>$</td>\n",
              "      <td>No</td>\n",
              "      <td>No</td>\n",
              "      <td>Thai</td>\n",
              "      <td>10-30</td>\n",
              "      <td>Yes</td>\n",
              "    </tr>\n",
              "    <tr>\n",
              "      <th>9</th>\n",
              "      <td>Yes</td>\n",
              "      <td>Yes</td>\n",
              "      <td>Yes</td>\n",
              "      <td>Yes</td>\n",
              "      <td>Full</td>\n",
              "      <td>$$$</td>\n",
              "      <td>No</td>\n",
              "      <td>Yes</td>\n",
              "      <td>Italian</td>\n",
              "      <td>10-30</td>\n",
              "      <td>No</td>\n",
              "    </tr>\n",
              "    <tr>\n",
              "      <th>11</th>\n",
              "      <td>Yes</td>\n",
              "      <td>Yes</td>\n",
              "      <td>Yes</td>\n",
              "      <td>Yes</td>\n",
              "      <td>Full</td>\n",
              "      <td>$</td>\n",
              "      <td>No</td>\n",
              "      <td>No</td>\n",
              "      <td>Burger</td>\n",
              "      <td>30-60</td>\n",
              "      <td>Yes</td>\n",
              "    </tr>\n",
              "  </tbody>\n",
              "</table>\n",
              "</div>\n",
              "      <button class=\"colab-df-convert\" onclick=\"convertToInteractive('df-8da51c35-7ce9-41f8-ab47-e297c3395830')\"\n",
              "              title=\"Convert this dataframe to an interactive table.\"\n",
              "              style=\"display:none;\">\n",
              "\n",
              "  <svg xmlns=\"http://www.w3.org/2000/svg\" height=\"24px\"viewBox=\"0 0 24 24\"\n",
              "       width=\"24px\">\n",
              "    <path d=\"M0 0h24v24H0V0z\" fill=\"none\"/>\n",
              "    <path d=\"M18.56 5.44l.94 2.06.94-2.06 2.06-.94-2.06-.94-.94-2.06-.94 2.06-2.06.94zm-11 1L8.5 8.5l.94-2.06 2.06-.94-2.06-.94L8.5 2.5l-.94 2.06-2.06.94zm10 10l.94 2.06.94-2.06 2.06-.94-2.06-.94-.94-2.06-.94 2.06-2.06.94z\"/><path d=\"M17.41 7.96l-1.37-1.37c-.4-.4-.92-.59-1.43-.59-.52 0-1.04.2-1.43.59L10.3 9.45l-7.72 7.72c-.78.78-.78 2.05 0 2.83L4 21.41c.39.39.9.59 1.41.59.51 0 1.02-.2 1.41-.59l7.78-7.78 2.81-2.81c.8-.78.8-2.07 0-2.86zM5.41 20L4 18.59l7.72-7.72 1.47 1.35L5.41 20z\"/>\n",
              "  </svg>\n",
              "      </button>\n",
              "\n",
              "\n",
              "\n",
              "    <div id=\"df-8e169c3b-aa01-422a-aa72-08a27a914d25\">\n",
              "      <button class=\"colab-df-quickchart\" onclick=\"quickchart('df-8e169c3b-aa01-422a-aa72-08a27a914d25')\"\n",
              "              title=\"Suggest charts.\"\n",
              "              style=\"display:none;\">\n",
              "\n",
              "<svg xmlns=\"http://www.w3.org/2000/svg\" height=\"24px\"viewBox=\"0 0 24 24\"\n",
              "     width=\"24px\">\n",
              "    <g>\n",
              "        <path d=\"M19 3H5c-1.1 0-2 .9-2 2v14c0 1.1.9 2 2 2h14c1.1 0 2-.9 2-2V5c0-1.1-.9-2-2-2zM9 17H7v-7h2v7zm4 0h-2V7h2v10zm4 0h-2v-4h2v4z\"/>\n",
              "    </g>\n",
              "</svg>\n",
              "      </button>\n",
              "    </div>\n",
              "\n",
              "<style>\n",
              "  .colab-df-quickchart {\n",
              "    background-color: #E8F0FE;\n",
              "    border: none;\n",
              "    border-radius: 50%;\n",
              "    cursor: pointer;\n",
              "    display: none;\n",
              "    fill: #1967D2;\n",
              "    height: 32px;\n",
              "    padding: 0 0 0 0;\n",
              "    width: 32px;\n",
              "  }\n",
              "\n",
              "  .colab-df-quickchart:hover {\n",
              "    background-color: #E2EBFA;\n",
              "    box-shadow: 0px 1px 2px rgba(60, 64, 67, 0.3), 0px 1px 3px 1px rgba(60, 64, 67, 0.15);\n",
              "    fill: #174EA6;\n",
              "  }\n",
              "\n",
              "  [theme=dark] .colab-df-quickchart {\n",
              "    background-color: #3B4455;\n",
              "    fill: #D2E3FC;\n",
              "  }\n",
              "\n",
              "  [theme=dark] .colab-df-quickchart:hover {\n",
              "    background-color: #434B5C;\n",
              "    box-shadow: 0px 1px 3px 1px rgba(0, 0, 0, 0.15);\n",
              "    filter: drop-shadow(0px 1px 2px rgba(0, 0, 0, 0.3));\n",
              "    fill: #FFFFFF;\n",
              "  }\n",
              "</style>\n",
              "\n",
              "    <script>\n",
              "      async function quickchart(key) {\n",
              "        const containerElement = document.querySelector('#' + key);\n",
              "        const charts = await google.colab.kernel.invokeFunction(\n",
              "            'suggestCharts', [key], {});\n",
              "      }\n",
              "    </script>\n",
              "\n",
              "      <script>\n",
              "\n",
              "function displayQuickchartButton(domScope) {\n",
              "  let quickchartButtonEl =\n",
              "    domScope.querySelector('#df-8e169c3b-aa01-422a-aa72-08a27a914d25 button.colab-df-quickchart');\n",
              "  quickchartButtonEl.style.display =\n",
              "    google.colab.kernel.accessAllowed ? 'block' : 'none';\n",
              "}\n",
              "\n",
              "        displayQuickchartButton(document);\n",
              "      </script>\n",
              "      <style>\n",
              "    .colab-df-container {\n",
              "      display:flex;\n",
              "      flex-wrap:wrap;\n",
              "      gap: 12px;\n",
              "    }\n",
              "\n",
              "    .colab-df-convert {\n",
              "      background-color: #E8F0FE;\n",
              "      border: none;\n",
              "      border-radius: 50%;\n",
              "      cursor: pointer;\n",
              "      display: none;\n",
              "      fill: #1967D2;\n",
              "      height: 32px;\n",
              "      padding: 0 0 0 0;\n",
              "      width: 32px;\n",
              "    }\n",
              "\n",
              "    .colab-df-convert:hover {\n",
              "      background-color: #E2EBFA;\n",
              "      box-shadow: 0px 1px 2px rgba(60, 64, 67, 0.3), 0px 1px 3px 1px rgba(60, 64, 67, 0.15);\n",
              "      fill: #174EA6;\n",
              "    }\n",
              "\n",
              "    [theme=dark] .colab-df-convert {\n",
              "      background-color: #3B4455;\n",
              "      fill: #D2E3FC;\n",
              "    }\n",
              "\n",
              "    [theme=dark] .colab-df-convert:hover {\n",
              "      background-color: #434B5C;\n",
              "      box-shadow: 0px 1px 3px 1px rgba(0, 0, 0, 0.15);\n",
              "      filter: drop-shadow(0px 1px 2px rgba(0, 0, 0, 0.3));\n",
              "      fill: #FFFFFF;\n",
              "    }\n",
              "  </style>\n",
              "\n",
              "      <script>\n",
              "        const buttonEl =\n",
              "          document.querySelector('#df-8da51c35-7ce9-41f8-ab47-e297c3395830 button.colab-df-convert');\n",
              "        buttonEl.style.display =\n",
              "          google.colab.kernel.accessAllowed ? 'block' : 'none';\n",
              "\n",
              "        async function convertToInteractive(key) {\n",
              "          const element = document.querySelector('#df-8da51c35-7ce9-41f8-ab47-e297c3395830');\n",
              "          const dataTable =\n",
              "            await google.colab.kernel.invokeFunction('convertToInteractive',\n",
              "                                                     [key], {});\n",
              "          if (!dataTable) return;\n",
              "\n",
              "          const docLinkHtml = 'Like what you see? Visit the ' +\n",
              "            '<a target=\"_blank\" href=https://colab.research.google.com/notebooks/data_table.ipynb>data table notebook</a>'\n",
              "            + ' to learn more about interactive tables.';\n",
              "          element.innerHTML = '';\n",
              "          dataTable['output_type'] = 'display_data';\n",
              "          await google.colab.output.renderOutput(dataTable, element);\n",
              "          const docLink = document.createElement('div');\n",
              "          docLink.innerHTML = docLinkHtml;\n",
              "          element.appendChild(docLink);\n",
              "        }\n",
              "      </script>\n",
              "    </div>\n",
              "  </div>\n"
            ]
          },
          "metadata": {},
          "execution_count": 97
        }
      ]
    },
    {
      "cell_type": "code",
      "source": [
        "entropy_decision = f_entropy_output(df_next)\n",
        "entropy_decision"
      ],
      "metadata": {
        "colab": {
          "base_uri": "https://localhost:8080/"
        },
        "id": "XLeFdcpWrU4b",
        "outputId": "cfb71894-a7fc-4863-ec8b-5f79f5740645"
      },
      "execution_count": null,
      "outputs": [
        {
          "output_type": "execute_result",
          "data": {
            "text/plain": [
              "1.0"
            ]
          },
          "metadata": {},
          "execution_count": 98
        }
      ]
    },
    {
      "cell_type": "code",
      "source": [
        "\n",
        "max_info_gain = -1\n",
        "max_info_feature = None\n",
        "for col in df_next.columns[:-1]:\n",
        "    gain = IG(df_next, col,entropy_decision)\n",
        "    gain = round(gain, 4)\n",
        "    print(f'Gain(Output, {col}) = {gain}')\n",
        "    if(gain>max_info_gain):\n",
        "      max_info_gain=gain\n",
        "      max_info_feature=col\n",
        "print(f\"Maximum information feature is {max_info_feature}\")"
      ],
      "metadata": {
        "colab": {
          "base_uri": "https://localhost:8080/"
        },
        "id": "_7CLC8vuroA8",
        "outputId": "bd947d22-fabc-4536-c5c4-838f444e0779"
      },
      "execution_count": null,
      "outputs": [
        {
          "output_type": "stream",
          "name": "stdout",
          "text": [
            "Gain(Output, Alternate) = 0.0\n",
            "Gain(Output, Bar) = 0.0\n",
            "Gain(Output, Fri/Sat) = 0.3113\n",
            "Gain(Output, Hungry) = 0.0\n",
            "Gain(Output, Patrons) = 0.0\n",
            "Gain(Output, Price) = 0.3113\n",
            "Gain(Output, Raining) = 0.0\n",
            "Gain(Output, Reservation) = 0.3113\n",
            "Gain(Output, Type) = 0.5\n",
            "Gain(Output, WaitEstimate) = 0.0\n",
            "Maximum information feature is Type\n"
          ]
        }
      ]
    },
    {
      "cell_type": "code",
      "source": [
        "featureToWorkOn,max_info_feature=createTree(featureToWorkOn,max_info_feature,df_next)"
      ],
      "metadata": {
        "colab": {
          "base_uri": "https://localhost:8080/"
        },
        "id": "ToarNZCjb3HF",
        "outputId": "b4427649-0deb-4622-b5a7-558bcff66c01"
      },
      "execution_count": null,
      "outputs": [
        {
          "output_type": "stream",
          "name": "stdout",
          "text": [
            "---------------\n",
            "Burger\n",
            "---------------\n",
            "   Alternate  Bar Fri/Sat Hungry Patrons Price Raining Reservation    Type  \\\n",
            "11       Yes  Yes     Yes    Yes    Full     $      No          No  Burger   \n",
            "\n",
            "   WaitEstimate Output  \n",
            "11        30-60    Yes  \n",
            "---------------\n",
            "Number of unique values of Output for Type when  value of Type is Burger ====>1\n",
            "---------------\n",
            "Italian\n",
            "---------------\n",
            "  Alternate  Bar Fri/Sat Hungry Patrons Price Raining Reservation     Type  \\\n",
            "9       Yes  Yes     Yes    Yes    Full   $$$      No         Yes  Italian   \n",
            "\n",
            "  WaitEstimate Output  \n",
            "9        10-30     No  \n",
            "---------------\n",
            "Number of unique values of Output for Type when  value of Type is Italian ====>1\n",
            "---------------\n",
            "Thai\n",
            "---------------\n",
            "  Alternate Bar Fri/Sat Hungry Patrons Price Raining Reservation  Type  \\\n",
            "1       Yes  No      No    Yes    Full     $      No          No  Thai   \n",
            "3       Yes  No     Yes    Yes    Full     $      No          No  Thai   \n",
            "\n",
            "  WaitEstimate Output  \n",
            "1        30-60     No  \n",
            "3        10-30    Yes  \n",
            "---------------\n",
            "Number of unique values of Output for Type when  value of Type is Thai ====>2\n",
            "Burger\n",
            "French\n",
            "['No', 'Yes']\n",
            "Value with maximum instances: Yes\n",
            "Italian\n",
            "Thai\n"
          ]
        }
      ]
    },
    {
      "cell_type": "code",
      "source": [
        "tree"
      ],
      "metadata": {
        "colab": {
          "base_uri": "https://localhost:8080/"
        },
        "id": "pzf7iw80CPVd",
        "outputId": "885b458c-9d01-48e3-d2bf-143e9745ae83"
      },
      "execution_count": null,
      "outputs": [
        {
          "output_type": "execute_result",
          "data": {
            "text/plain": [
              "{'Patrons': {'Full': {'Hungry': {'No': 'No',\n",
              "    'Yes': {'Type': {'Burger': 'Yes',\n",
              "      'Italian': 'No',\n",
              "      'Thai': {},\n",
              "      'French': 'Yes'}}}},\n",
              "  'None': 'No',\n",
              "  'Some': 'Yes'}}"
            ]
          },
          "metadata": {},
          "execution_count": 102
        }
      ]
    },
    {
      "cell_type": "code",
      "source": [
        "plot_tree(tree,'1')\n",
        "import matplotlib.pyplot as plt\n",
        "import matplotlib.image as mpimg\n",
        "\n",
        "# Replace 'image_filename.jpg' with the actual filename of your image.\n",
        "image_filename = '/content/drive/MyDrive/DecisionTreeAssignment/1.png'\n",
        "\n",
        "# Load the image using matplotlib.image\n",
        "img = mpimg.imread(image_filename)\n",
        "\n",
        "# Display the image using imshow\n",
        "plt.imshow(img)\n",
        "plt.axis('off')  # Turn off axis ticks and labels for a cleaner display\n",
        "plt.show()"
      ],
      "metadata": {
        "colab": {
          "base_uri": "https://localhost:8080/",
          "height": 406
        },
        "id": "pMdOa9SAGjs-",
        "outputId": "30e57513-3d67-4014-b1f5-5bdf1ae39885"
      },
      "execution_count": null,
      "outputs": [
        {
          "output_type": "display_data",
          "data": {
            "text/plain": [
              "<Figure size 640x480 with 1 Axes>"
            ],
            "image/png": "[encoded data removed]"
          },
          "metadata": {}
        }
      ]
    },
    {
      "cell_type": "code",
      "source": [
        "df_next = df_next.loc[df_next.Type== featureToWorkOn ]\n",
        "df_next"
      ],
      "metadata": {
        "colab": {
          "base_uri": "https://localhost:8080/",
          "height": 112
        },
        "id": "xmSYUKyztuUu",
        "outputId": "a28d3914-1623-4ca2-98cf-d7c1b9e3a737"
      },
      "execution_count": null,
      "outputs": [
        {
          "output_type": "execute_result",
          "data": {
            "text/plain": [
              "  Alternate Bar Fri/Sat Hungry Patrons Price Raining Reservation  Type  \\\n",
              "1       Yes  No      No    Yes    Full     $      No          No  Thai   \n",
              "3       Yes  No     Yes    Yes    Full     $      No          No  Thai   \n",
              "\n",
              "  WaitEstimate Output  \n",
              "1        30-60     No  \n",
              "3        10-30    Yes  "
            ],
            "text/html": [
              "\n",
              "\n",
              "  <div id=\"df-a0bd2e22-e243-430b-b309-cca36b5f4693\">\n",
              "    <div class=\"colab-df-container\">\n",
              "      <div>\n",
              "<style scoped>\n",
              "    .dataframe tbody tr th:only-of-type {\n",
              "        vertical-align: middle;\n",
              "    }\n",
              "\n",
              "    .dataframe tbody tr th {\n",
              "        vertical-align: top;\n",
              "    }\n",
              "\n",
              "    .dataframe thead th {\n",
              "        text-align: right;\n",
              "    }\n",
              "</style>\n",
              "<table border=\"1\" class=\"dataframe\">\n",
              "  <thead>\n",
              "    <tr style=\"text-align: right;\">\n",
              "      <th></th>\n",
              "      <th>Alternate</th>\n",
              "      <th>Bar</th>\n",
              "      <th>Fri/Sat</th>\n",
              "      <th>Hungry</th>\n",
              "      <th>Patrons</th>\n",
              "      <th>Price</th>\n",
              "      <th>Raining</th>\n",
              "      <th>Reservation</th>\n",
              "      <th>Type</th>\n",
              "      <th>WaitEstimate</th>\n",
              "      <th>Output</th>\n",
              "    </tr>\n",
              "  </thead>\n",
              "  <tbody>\n",
              "    <tr>\n",
              "      <th>1</th>\n",
              "      <td>Yes</td>\n",
              "      <td>No</td>\n",
              "      <td>No</td>\n",
              "      <td>Yes</td>\n",
              "      <td>Full</td>\n",
              "      <td>$</td>\n",
              "      <td>No</td>\n",
              "      <td>No</td>\n",
              "      <td>Thai</td>\n",
              "      <td>30-60</td>\n",
              "      <td>No</td>\n",
              "    </tr>\n",
              "    <tr>\n",
              "      <th>3</th>\n",
              "      <td>Yes</td>\n",
              "      <td>No</td>\n",
              "      <td>Yes</td>\n",
              "      <td>Yes</td>\n",
              "      <td>Full</td>\n",
              "      <td>$</td>\n",
              "      <td>No</td>\n",
              "      <td>No</td>\n",
              "      <td>Thai</td>\n",
              "      <td>10-30</td>\n",
              "      <td>Yes</td>\n",
              "    </tr>\n",
              "  </tbody>\n",
              "</table>\n",
              "</div>\n",
              "      <button class=\"colab-df-convert\" onclick=\"convertToInteractive('df-a0bd2e22-e243-430b-b309-cca36b5f4693')\"\n",
              "              title=\"Convert this dataframe to an interactive table.\"\n",
              "              style=\"display:none;\">\n",
              "\n",
              "  <svg xmlns=\"http://www.w3.org/2000/svg\" height=\"24px\"viewBox=\"0 0 24 24\"\n",
              "       width=\"24px\">\n",
              "    <path d=\"M0 0h24v24H0V0z\" fill=\"none\"/>\n",
              "    <path d=\"M18.56 5.44l.94 2.06.94-2.06 2.06-.94-2.06-.94-.94-2.06-.94 2.06-2.06.94zm-11 1L8.5 8.5l.94-2.06 2.06-.94-2.06-.94L8.5 2.5l-.94 2.06-2.06.94zm10 10l.94 2.06.94-2.06 2.06-.94-2.06-.94-.94-2.06-.94 2.06-2.06.94z\"/><path d=\"M17.41 7.96l-1.37-1.37c-.4-.4-.92-.59-1.43-.59-.52 0-1.04.2-1.43.59L10.3 9.45l-7.72 7.72c-.78.78-.78 2.05 0 2.83L4 21.41c.39.39.9.59 1.41.59.51 0 1.02-.2 1.41-.59l7.78-7.78 2.81-2.81c.8-.78.8-2.07 0-2.86zM5.41 20L4 18.59l7.72-7.72 1.47 1.35L5.41 20z\"/>\n",
              "  </svg>\n",
              "      </button>\n",
              "\n",
              "\n",
              "\n",
              "    <div id=\"df-8657f44a-1bd4-484b-8790-6a6b193452ca\">\n",
              "      <button class=\"colab-df-quickchart\" onclick=\"quickchart('df-8657f44a-1bd4-484b-8790-6a6b193452ca')\"\n",
              "              title=\"Suggest charts.\"\n",
              "              style=\"display:none;\">\n",
              "\n",
              "<svg xmlns=\"http://www.w3.org/2000/svg\" height=\"24px\"viewBox=\"0 0 24 24\"\n",
              "     width=\"24px\">\n",
              "    <g>\n",
              "        <path d=\"M19 3H5c-1.1 0-2 .9-2 2v14c0 1.1.9 2 2 2h14c1.1 0 2-.9 2-2V5c0-1.1-.9-2-2-2zM9 17H7v-7h2v7zm4 0h-2V7h2v10zm4 0h-2v-4h2v4z\"/>\n",
              "    </g>\n",
              "</svg>\n",
              "      </button>\n",
              "    </div>\n",
              "\n",
              "<style>\n",
              "  .colab-df-quickchart {\n",
              "    background-color: #E8F0FE;\n",
              "    border: none;\n",
              "    border-radius: 50%;\n",
              "    cursor: pointer;\n",
              "    display: none;\n",
              "    fill: #1967D2;\n",
              "    height: 32px;\n",
              "    padding: 0 0 0 0;\n",
              "    width: 32px;\n",
              "  }\n",
              "\n",
              "  .colab-df-quickchart:hover {\n",
              "    background-color: #E2EBFA;\n",
              "    box-shadow: 0px 1px 2px rgba(60, 64, 67, 0.3), 0px 1px 3px 1px rgba(60, 64, 67, 0.15);\n",
              "    fill: #174EA6;\n",
              "  }\n",
              "\n",
              "  [theme=dark] .colab-df-quickchart {\n",
              "    background-color: #3B4455;\n",
              "    fill: #D2E3FC;\n",
              "  }\n",
              "\n",
              "  [theme=dark] .colab-df-quickchart:hover {\n",
              "    background-color: #434B5C;\n",
              "    box-shadow: 0px 1px 3px 1px rgba(0, 0, 0, 0.15);\n",
              "    filter: drop-shadow(0px 1px 2px rgba(0, 0, 0, 0.3));\n",
              "    fill: #FFFFFF;\n",
              "  }\n",
              "</style>\n",
              "\n",
              "    <script>\n",
              "      async function quickchart(key) {\n",
              "        const containerElement = document.querySelector('#' + key);\n",
              "        const charts = await google.colab.kernel.invokeFunction(\n",
              "            'suggestCharts', [key], {});\n",
              "      }\n",
              "    </script>\n",
              "\n",
              "      <script>\n",
              "\n",
              "function displayQuickchartButton(domScope) {\n",
              "  let quickchartButtonEl =\n",
              "    domScope.querySelector('#df-8657f44a-1bd4-484b-8790-6a6b193452ca button.colab-df-quickchart');\n",
              "  quickchartButtonEl.style.display =\n",
              "    google.colab.kernel.accessAllowed ? 'block' : 'none';\n",
              "}\n",
              "\n",
              "        displayQuickchartButton(document);\n",
              "      </script>\n",
              "      <style>\n",
              "    .colab-df-container {\n",
              "      display:flex;\n",
              "      flex-wrap:wrap;\n",
              "      gap: 12px;\n",
              "    }\n",
              "\n",
              "    .colab-df-convert {\n",
              "      background-color: #E8F0FE;\n",
              "      border: none;\n",
              "      border-radius: 50%;\n",
              "      cursor: pointer;\n",
              "      display: none;\n",
              "      fill: #1967D2;\n",
              "      height: 32px;\n",
              "      padding: 0 0 0 0;\n",
              "      width: 32px;\n",
              "    }\n",
              "\n",
              "    .colab-df-convert:hover {\n",
              "      background-color: #E2EBFA;\n",
              "      box-shadow: 0px 1px 2px rgba(60, 64, 67, 0.3), 0px 1px 3px 1px rgba(60, 64, 67, 0.15);\n",
              "      fill: #174EA6;\n",
              "    }\n",
              "\n",
              "    [theme=dark] .colab-df-convert {\n",
              "      background-color: #3B4455;\n",
              "      fill: #D2E3FC;\n",
              "    }\n",
              "\n",
              "    [theme=dark] .colab-df-convert:hover {\n",
              "      background-color: #434B5C;\n",
              "      box-shadow: 0px 1px 3px 1px rgba(0, 0, 0, 0.15);\n",
              "      filter: drop-shadow(0px 1px 2px rgba(0, 0, 0, 0.3));\n",
              "      fill: #FFFFFF;\n",
              "    }\n",
              "  </style>\n",
              "\n",
              "      <script>\n",
              "        const buttonEl =\n",
              "          document.querySelector('#df-a0bd2e22-e243-430b-b309-cca36b5f4693 button.colab-df-convert');\n",
              "        buttonEl.style.display =\n",
              "          google.colab.kernel.accessAllowed ? 'block' : 'none';\n",
              "\n",
              "        async function convertToInteractive(key) {\n",
              "          const element = document.querySelector('#df-a0bd2e22-e243-430b-b309-cca36b5f4693');\n",
              "          const dataTable =\n",
              "            await google.colab.kernel.invokeFunction('convertToInteractive',\n",
              "                                                     [key], {});\n",
              "          if (!dataTable) return;\n",
              "\n",
              "          const docLinkHtml = 'Like what you see? Visit the ' +\n",
              "            '<a target=\"_blank\" href=https://colab.research.google.com/notebooks/data_table.ipynb>data table notebook</a>'\n",
              "            + ' to learn more about interactive tables.';\n",
              "          element.innerHTML = '';\n",
              "          dataTable['output_type'] = 'display_data';\n",
              "          await google.colab.output.renderOutput(dataTable, element);\n",
              "          const docLink = document.createElement('div');\n",
              "          docLink.innerHTML = docLinkHtml;\n",
              "          element.appendChild(docLink);\n",
              "        }\n",
              "      </script>\n",
              "    </div>\n",
              "  </div>\n"
            ]
          },
          "metadata": {},
          "execution_count": 103
        }
      ]
    },
    {
      "cell_type": "code",
      "source": [
        "entropy_decision = f_entropy_output(df_next)\n",
        "entropy_decision"
      ],
      "metadata": {
        "colab": {
          "base_uri": "https://localhost:8080/"
        },
        "id": "XRf1a2ENt5q9",
        "outputId": "25207f18-a753-4727-ee62-8aa191746f81"
      },
      "execution_count": null,
      "outputs": [
        {
          "output_type": "execute_result",
          "data": {
            "text/plain": [
              "1.0"
            ]
          },
          "metadata": {},
          "execution_count": 104
        }
      ]
    },
    {
      "cell_type": "code",
      "source": [
        "max_info_gain = -1\n",
        "max_info_feature = None\n",
        "for col in df_next.columns[:-1]:\n",
        "    gain = IG(df_next, col,entropy_decision)\n",
        "    gain = round(gain, 4)\n",
        "    print(f'Gain(Output, {col}) = {gain}')\n",
        "    if(gain>max_info_gain):\n",
        "      max_info_gain=gain\n",
        "      max_info_feature=col\n",
        "print(f\"Maximum information feature is {max_info_feature}\")"
      ],
      "metadata": {
        "colab": {
          "base_uri": "https://localhost:8080/"
        },
        "id": "shKss9FGuAmo",
        "outputId": "31dc3a15-8e8e-4570-9523-7d5d0c538016"
      },
      "execution_count": null,
      "outputs": [
        {
          "output_type": "stream",
          "name": "stdout",
          "text": [
            "Gain(Output, Alternate) = 0.0\n",
            "Gain(Output, Bar) = 0.0\n",
            "Gain(Output, Fri/Sat) = 1.0\n",
            "Gain(Output, Hungry) = 0.0\n",
            "Gain(Output, Patrons) = 0.0\n",
            "Gain(Output, Price) = 0.0\n",
            "Gain(Output, Raining) = 0.0\n",
            "Gain(Output, Reservation) = 0.0\n",
            "Gain(Output, Type) = 0.0\n",
            "Gain(Output, WaitEstimate) = 1.0\n",
            "Maximum information feature is Fri/Sat\n"
          ]
        }
      ]
    },
    {
      "cell_type": "code",
      "source": [
        "featureToWorkOn,max_info_feature=createTree(featureToWorkOn,max_info_feature,df_next)"
      ],
      "metadata": {
        "colab": {
          "base_uri": "https://localhost:8080/"
        },
        "id": "KGFkHYGrZOSM",
        "outputId": "3f16929e-5fae-4ccb-837d-21620cf966d0"
      },
      "execution_count": null,
      "outputs": [
        {
          "output_type": "stream",
          "name": "stdout",
          "text": [
            "---------------\n",
            "No\n",
            "---------------\n",
            "  Alternate Bar Fri/Sat Hungry Patrons Price Raining Reservation  Type  \\\n",
            "1       Yes  No      No    Yes    Full     $      No          No  Thai   \n",
            "\n",
            "  WaitEstimate Output  \n",
            "1        30-60     No  \n",
            "---------------\n",
            "Number of unique values of Output for Fri/Sat when  value of Fri/Sat is No ====>1\n",
            "---------------\n",
            "Yes\n",
            "---------------\n",
            "  Alternate Bar Fri/Sat Hungry Patrons Price Raining Reservation  Type  \\\n",
            "3       Yes  No     Yes    Yes    Full     $      No          No  Thai   \n",
            "\n",
            "  WaitEstimate Output  \n",
            "3        10-30    Yes  \n",
            "---------------\n",
            "Number of unique values of Output for Fri/Sat when  value of Fri/Sat is Yes ====>1\n",
            "No\n",
            "Yes\n"
          ]
        }
      ]
    },
    {
      "cell_type": "code",
      "source": [
        "plot_tree(tree,'1')\n",
        "import matplotlib.pyplot as plt\n",
        "import matplotlib.image as mpimg\n",
        "\n",
        "# Replace 'image_filename.jpg' with the actual filename of your image.\n",
        "image_filename = '/content/drive/MyDrive/DecisionTreeAssignment/1.png'\n",
        "\n",
        "# Load the image using matplotlib.image\n",
        "img = mpimg.imread(image_filename)\n",
        "\n",
        "# Display the image using imshow\n",
        "plt.imshow(img)\n",
        "plt.axis('off')  # Turn off axis ticks and labels for a cleaner display\n",
        "plt.show()"
      ],
      "metadata": {
        "colab": {
          "base_uri": "https://localhost:8080/",
          "height": 406
        },
        "id": "1lI8cfEJHnIZ",
        "outputId": "a952ddf4-0ef3-42db-fb8e-8dea892aec79"
      },
      "execution_count": null,
      "outputs": [
        {
          "output_type": "display_data",
          "data": {
            "text/plain": [
              "<Figure size 640x480 with 1 Axes>"
            ],
            "image/png": "[encoded data removed]"
          },
          "metadata": {}
        }
      ]
    },
    {
      "cell_type": "code",
      "source": [
        "df_test= pd.read_csv('/content/drive/MyDrive/DecisionTreeAssignment/restaurant_test.csv')\n",
        "df_test = df_test.applymap(strip_spaces)"
      ],
      "metadata": {
        "id": "sWS69JzYuSbN"
      },
      "execution_count": null,
      "outputs": []
    },
    {
      "cell_type": "code",
      "source": [
        "df_test"
      ],
      "metadata": {
        "colab": {
          "base_uri": "https://localhost:8080/",
          "height": 143
        },
        "id": "gvBMNB7yzosv",
        "outputId": "b4548809-31f3-4d81-e3ac-1aaac9d9b73e"
      },
      "execution_count": null,
      "outputs": [
        {
          "output_type": "execute_result",
          "data": {
            "text/plain": [
              "  Alternate Bar Fri/Sat Hungry Patrons Price Raining Reservation    Type  \\\n",
              "0        No  No      No     No    None   $$$      No          No    Thai   \n",
              "1        No  No     Yes    Yes    Full     $     Yes          No  Burger   \n",
              "2       Yes  No      No     No    Full    $$     Yes          No  French   \n",
              "\n",
              "  WaitEstimate Output  \n",
              "0         0-10     No  \n",
              "1        10-30    Yes  \n",
              "2         0-10     No  "
            ],
            "text/html": [
              "\n",
              "\n",
              "  <div id=\"df-a3aa8fee-9bfd-47cd-9d3d-4ebbb758979d\">\n",
              "    <div class=\"colab-df-container\">\n",
              "      <div>\n",
              "<style scoped>\n",
              "    .dataframe tbody tr th:only-of-type {\n",
              "        vertical-align: middle;\n",
              "    }\n",
              "\n",
              "    .dataframe tbody tr th {\n",
              "        vertical-align: top;\n",
              "    }\n",
              "\n",
              "    .dataframe thead th {\n",
              "        text-align: right;\n",
              "    }\n",
              "</style>\n",
              "<table border=\"1\" class=\"dataframe\">\n",
              "  <thead>\n",
              "    <tr style=\"text-align: right;\">\n",
              "      <th></th>\n",
              "      <th>Alternate</th>\n",
              "      <th>Bar</th>\n",
              "      <th>Fri/Sat</th>\n",
              "      <th>Hungry</th>\n",
              "      <th>Patrons</th>\n",
              "      <th>Price</th>\n",
              "      <th>Raining</th>\n",
              "      <th>Reservation</th>\n",
              "      <th>Type</th>\n",
              "      <th>WaitEstimate</th>\n",
              "      <th>Output</th>\n",
              "    </tr>\n",
              "  </thead>\n",
              "  <tbody>\n",
              "    <tr>\n",
              "      <th>0</th>\n",
              "      <td>No</td>\n",
              "      <td>No</td>\n",
              "      <td>No</td>\n",
              "      <td>No</td>\n",
              "      <td>None</td>\n",
              "      <td>$$$</td>\n",
              "      <td>No</td>\n",
              "      <td>No</td>\n",
              "      <td>Thai</td>\n",
              "      <td>0-10</td>\n",
              "      <td>No</td>\n",
              "    </tr>\n",
              "    <tr>\n",
              "      <th>1</th>\n",
              "      <td>No</td>\n",
              "      <td>No</td>\n",
              "      <td>Yes</td>\n",
              "      <td>Yes</td>\n",
              "      <td>Full</td>\n",
              "      <td>$</td>\n",
              "      <td>Yes</td>\n",
              "      <td>No</td>\n",
              "      <td>Burger</td>\n",
              "      <td>10-30</td>\n",
              "      <td>Yes</td>\n",
              "    </tr>\n",
              "    <tr>\n",
              "      <th>2</th>\n",
              "      <td>Yes</td>\n",
              "      <td>No</td>\n",
              "      <td>No</td>\n",
              "      <td>No</td>\n",
              "      <td>Full</td>\n",
              "      <td>$$</td>\n",
              "      <td>Yes</td>\n",
              "      <td>No</td>\n",
              "      <td>French</td>\n",
              "      <td>0-10</td>\n",
              "      <td>No</td>\n",
              "    </tr>\n",
              "  </tbody>\n",
              "</table>\n",
              "</div>\n",
              "      <button class=\"colab-df-convert\" onclick=\"convertToInteractive('df-a3aa8fee-9bfd-47cd-9d3d-4ebbb758979d')\"\n",
              "              title=\"Convert this dataframe to an interactive table.\"\n",
              "              style=\"display:none;\">\n",
              "\n",
              "  <svg xmlns=\"http://www.w3.org/2000/svg\" height=\"24px\"viewBox=\"0 0 24 24\"\n",
              "       width=\"24px\">\n",
              "    <path d=\"M0 0h24v24H0V0z\" fill=\"none\"/>\n",
              "    <path d=\"M18.56 5.44l.94 2.06.94-2.06 2.06-.94-2.06-.94-.94-2.06-.94 2.06-2.06.94zm-11 1L8.5 8.5l.94-2.06 2.06-.94-2.06-.94L8.5 2.5l-.94 2.06-2.06.94zm10 10l.94 2.06.94-2.06 2.06-.94-2.06-.94-.94-2.06-.94 2.06-2.06.94z\"/><path d=\"M17.41 7.96l-1.37-1.37c-.4-.4-.92-.59-1.43-.59-.52 0-1.04.2-1.43.59L10.3 9.45l-7.72 7.72c-.78.78-.78 2.05 0 2.83L4 21.41c.39.39.9.59 1.41.59.51 0 1.02-.2 1.41-.59l7.78-7.78 2.81-2.81c.8-.78.8-2.07 0-2.86zM5.41 20L4 18.59l7.72-7.72 1.47 1.35L5.41 20z\"/>\n",
              "  </svg>\n",
              "      </button>\n",
              "\n",
              "\n",
              "\n",
              "    <div id=\"df-b3d40159-ad57-4a8e-9083-57ec73af6332\">\n",
              "      <button class=\"colab-df-quickchart\" onclick=\"quickchart('df-b3d40159-ad57-4a8e-9083-57ec73af6332')\"\n",
              "              title=\"Suggest charts.\"\n",
              "              style=\"display:none;\">\n",
              "\n",
              "<svg xmlns=\"http://www.w3.org/2000/svg\" height=\"24px\"viewBox=\"0 0 24 24\"\n",
              "     width=\"24px\">\n",
              "    <g>\n",
              "        <path d=\"M19 3H5c-1.1 0-2 .9-2 2v14c0 1.1.9 2 2 2h14c1.1 0 2-.9 2-2V5c0-1.1-.9-2-2-2zM9 17H7v-7h2v7zm4 0h-2V7h2v10zm4 0h-2v-4h2v4z\"/>\n",
              "    </g>\n",
              "</svg>\n",
              "      </button>\n",
              "    </div>\n",
              "\n",
              "<style>\n",
              "  .colab-df-quickchart {\n",
              "    background-color: #E8F0FE;\n",
              "    border: none;\n",
              "    border-radius: 50%;\n",
              "    cursor: pointer;\n",
              "    display: none;\n",
              "    fill: #1967D2;\n",
              "    height: 32px;\n",
              "    padding: 0 0 0 0;\n",
              "    width: 32px;\n",
              "  }\n",
              "\n",
              "  .colab-df-quickchart:hover {\n",
              "    background-color: #E2EBFA;\n",
              "    box-shadow: 0px 1px 2px rgba(60, 64, 67, 0.3), 0px 1px 3px 1px rgba(60, 64, 67, 0.15);\n",
              "    fill: #174EA6;\n",
              "  }\n",
              "\n",
              "  [theme=dark] .colab-df-quickchart {\n",
              "    background-color: #3B4455;\n",
              "    fill: #D2E3FC;\n",
              "  }\n",
              "\n",
              "  [theme=dark] .colab-df-quickchart:hover {\n",
              "    background-color: #434B5C;\n",
              "    box-shadow: 0px 1px 3px 1px rgba(0, 0, 0, 0.15);\n",
              "    filter: drop-shadow(0px 1px 2px rgba(0, 0, 0, 0.3));\n",
              "    fill: #FFFFFF;\n",
              "  }\n",
              "</style>\n",
              "\n",
              "    <script>\n",
              "      async function quickchart(key) {\n",
              "        const containerElement = document.querySelector('#' + key);\n",
              "        const charts = await google.colab.kernel.invokeFunction(\n",
              "            'suggestCharts', [key], {});\n",
              "      }\n",
              "    </script>\n",
              "\n",
              "      <script>\n",
              "\n",
              "function displayQuickchartButton(domScope) {\n",
              "  let quickchartButtonEl =\n",
              "    domScope.querySelector('#df-b3d40159-ad57-4a8e-9083-57ec73af6332 button.colab-df-quickchart');\n",
              "  quickchartButtonEl.style.display =\n",
              "    google.colab.kernel.accessAllowed ? 'block' : 'none';\n",
              "}\n",
              "\n",
              "        displayQuickchartButton(document);\n",
              "      </script>\n",
              "      <style>\n",
              "    .colab-df-container {\n",
              "      display:flex;\n",
              "      flex-wrap:wrap;\n",
              "      gap: 12px;\n",
              "    }\n",
              "\n",
              "    .colab-df-convert {\n",
              "      background-color: #E8F0FE;\n",
              "      border: none;\n",
              "      border-radius: 50%;\n",
              "      cursor: pointer;\n",
              "      display: none;\n",
              "      fill: #1967D2;\n",
              "      height: 32px;\n",
              "      padding: 0 0 0 0;\n",
              "      width: 32px;\n",
              "    }\n",
              "\n",
              "    .colab-df-convert:hover {\n",
              "      background-color: #E2EBFA;\n",
              "      box-shadow: 0px 1px 2px rgba(60, 64, 67, 0.3), 0px 1px 3px 1px rgba(60, 64, 67, 0.15);\n",
              "      fill: #174EA6;\n",
              "    }\n",
              "\n",
              "    [theme=dark] .colab-df-convert {\n",
              "      background-color: #3B4455;\n",
              "      fill: #D2E3FC;\n",
              "    }\n",
              "\n",
              "    [theme=dark] .colab-df-convert:hover {\n",
              "      background-color: #434B5C;\n",
              "      box-shadow: 0px 1px 3px 1px rgba(0, 0, 0, 0.15);\n",
              "      filter: drop-shadow(0px 1px 2px rgba(0, 0, 0, 0.3));\n",
              "      fill: #FFFFFF;\n",
              "    }\n",
              "  </style>\n",
              "\n",
              "      <script>\n",
              "        const buttonEl =\n",
              "          document.querySelector('#df-a3aa8fee-9bfd-47cd-9d3d-4ebbb758979d button.colab-df-convert');\n",
              "        buttonEl.style.display =\n",
              "          google.colab.kernel.accessAllowed ? 'block' : 'none';\n",
              "\n",
              "        async function convertToInteractive(key) {\n",
              "          const element = document.querySelector('#df-a3aa8fee-9bfd-47cd-9d3d-4ebbb758979d');\n",
              "          const dataTable =\n",
              "            await google.colab.kernel.invokeFunction('convertToInteractive',\n",
              "                                                     [key], {});\n",
              "          if (!dataTable) return;\n",
              "\n",
              "          const docLinkHtml = 'Like what you see? Visit the ' +\n",
              "            '<a target=\"_blank\" href=https://colab.research.google.com/notebooks/data_table.ipynb>data table notebook</a>'\n",
              "            + ' to learn more about interactive tables.';\n",
              "          element.innerHTML = '';\n",
              "          dataTable['output_type'] = 'display_data';\n",
              "          await google.colab.output.renderOutput(dataTable, element);\n",
              "          const docLink = document.createElement('div');\n",
              "          docLink.innerHTML = docLinkHtml;\n",
              "          element.appendChild(docLink);\n",
              "        }\n",
              "      </script>\n",
              "    </div>\n",
              "  </div>\n"
            ]
          },
          "metadata": {},
          "execution_count": 109
        }
      ]
    },
    {
      "cell_type": "code",
      "source": [
        "def predict(tree, instance):\n",
        "    if not isinstance(tree, dict): #if it is leaf node\n",
        "        return tree #return the value\n",
        "    else:\n",
        "        root_node = next(iter(tree)) #getting first key/feature name of the dictionary\n",
        "        feature_value = instance[root_node] #value of the feature\n",
        "        if feature_value in tree[root_node]: #checking the feature value in current tree node\n",
        "            return predict(tree[root_node][feature_value], instance) #goto next feature\n",
        "        else:\n",
        "            return None"
      ],
      "metadata": {
        "id": "7gryzXAbtr1U"
      },
      "execution_count": null,
      "outputs": []
    },
    {
      "cell_type": "code",
      "source": [
        "def evaluate(tree, test_data_m, label):\n",
        "    correct_preditct = 0\n",
        "    wrong_preditct = 0\n",
        "    for index, row in test_data_m.iterrows(): #for each row in the dataset\n",
        "        result = predict(tree, test_data_m.iloc[index]) #predict the row\n",
        "        if result == test_data_m[label].iloc[index]: #predicted value and expected value is same or not\n",
        "            correct_preditct += 1 #increase correct count\n",
        "        else:\n",
        "            wrong_preditct += 1 #increase incorrect count\n",
        "    accuracy = correct_preditct / (correct_preditct + wrong_preditct) #calculating accuracy\n",
        "    return accuracy"
      ],
      "metadata": {
        "id": "S7Bw1efxvevH"
      },
      "execution_count": null,
      "outputs": []
    },
    {
      "cell_type": "code",
      "source": [
        "df_test"
      ],
      "metadata": {
        "colab": {
          "base_uri": "https://localhost:8080/",
          "height": 143
        },
        "id": "jnV6Ay-P282-",
        "outputId": "aa963af5-8d61-4545-cfe6-eb0053a9dab3"
      },
      "execution_count": null,
      "outputs": [
        {
          "output_type": "execute_result",
          "data": {
            "text/plain": [
              "  Alternate Bar Fri/Sat Hungry Patrons Price Raining Reservation    Type  \\\n",
              "0        No  No      No     No    None   $$$      No          No    Thai   \n",
              "1        No  No     Yes    Yes    Full     $     Yes          No  Burger   \n",
              "2       Yes  No      No     No    Full    $$     Yes          No  French   \n",
              "\n",
              "  WaitEstimate Output  \n",
              "0         0-10     No  \n",
              "1        10-30    Yes  \n",
              "2         0-10     No  "
            ],
            "text/html": [
              "\n",
              "\n",
              "  <div id=\"df-c674ac8e-42a9-4b4c-b130-6512b5724ba7\">\n",
              "    <div class=\"colab-df-container\">\n",
              "      <div>\n",
              "<style scoped>\n",
              "    .dataframe tbody tr th:only-of-type {\n",
              "        vertical-align: middle;\n",
              "    }\n",
              "\n",
              "    .dataframe tbody tr th {\n",
              "        vertical-align: top;\n",
              "    }\n",
              "\n",
              "    .dataframe thead th {\n",
              "        text-align: right;\n",
              "    }\n",
              "</style>\n",
              "<table border=\"1\" class=\"dataframe\">\n",
              "  <thead>\n",
              "    <tr style=\"text-align: right;\">\n",
              "      <th></th>\n",
              "      <th>Alternate</th>\n",
              "      <th>Bar</th>\n",
              "      <th>Fri/Sat</th>\n",
              "      <th>Hungry</th>\n",
              "      <th>Patrons</th>\n",
              "      <th>Price</th>\n",
              "      <th>Raining</th>\n",
              "      <th>Reservation</th>\n",
              "      <th>Type</th>\n",
              "      <th>WaitEstimate</th>\n",
              "      <th>Output</th>\n",
              "    </tr>\n",
              "  </thead>\n",
              "  <tbody>\n",
              "    <tr>\n",
              "      <th>0</th>\n",
              "      <td>No</td>\n",
              "      <td>No</td>\n",
              "      <td>No</td>\n",
              "      <td>No</td>\n",
              "      <td>None</td>\n",
              "      <td>$$$</td>\n",
              "      <td>No</td>\n",
              "      <td>No</td>\n",
              "      <td>Thai</td>\n",
              "      <td>0-10</td>\n",
              "      <td>No</td>\n",
              "    </tr>\n",
              "    <tr>\n",
              "      <th>1</th>\n",
              "      <td>No</td>\n",
              "      <td>No</td>\n",
              "      <td>Yes</td>\n",
              "      <td>Yes</td>\n",
              "      <td>Full</td>\n",
              "      <td>$</td>\n",
              "      <td>Yes</td>\n",
              "      <td>No</td>\n",
              "      <td>Burger</td>\n",
              "      <td>10-30</td>\n",
              "      <td>Yes</td>\n",
              "    </tr>\n",
              "    <tr>\n",
              "      <th>2</th>\n",
              "      <td>Yes</td>\n",
              "      <td>No</td>\n",
              "      <td>No</td>\n",
              "      <td>No</td>\n",
              "      <td>Full</td>\n",
              "      <td>$$</td>\n",
              "      <td>Yes</td>\n",
              "      <td>No</td>\n",
              "      <td>French</td>\n",
              "      <td>0-10</td>\n",
              "      <td>No</td>\n",
              "    </tr>\n",
              "  </tbody>\n",
              "</table>\n",
              "</div>\n",
              "      <button class=\"colab-df-convert\" onclick=\"convertToInteractive('df-c674ac8e-42a9-4b4c-b130-6512b5724ba7')\"\n",
              "              title=\"Convert this dataframe to an interactive table.\"\n",
              "              style=\"display:none;\">\n",
              "\n",
              "  <svg xmlns=\"http://www.w3.org/2000/svg\" height=\"24px\"viewBox=\"0 0 24 24\"\n",
              "       width=\"24px\">\n",
              "    <path d=\"M0 0h24v24H0V0z\" fill=\"none\"/>\n",
              "    <path d=\"M18.56 5.44l.94 2.06.94-2.06 2.06-.94-2.06-.94-.94-2.06-.94 2.06-2.06.94zm-11 1L8.5 8.5l.94-2.06 2.06-.94-2.06-.94L8.5 2.5l-.94 2.06-2.06.94zm10 10l.94 2.06.94-2.06 2.06-.94-2.06-.94-.94-2.06-.94 2.06-2.06.94z\"/><path d=\"M17.41 7.96l-1.37-1.37c-.4-.4-.92-.59-1.43-.59-.52 0-1.04.2-1.43.59L10.3 9.45l-7.72 7.72c-.78.78-.78 2.05 0 2.83L4 21.41c.39.39.9.59 1.41.59.51 0 1.02-.2 1.41-.59l7.78-7.78 2.81-2.81c.8-.78.8-2.07 0-2.86zM5.41 20L4 18.59l7.72-7.72 1.47 1.35L5.41 20z\"/>\n",
              "  </svg>\n",
              "      </button>\n",
              "\n",
              "\n",
              "\n",
              "    <div id=\"df-230d6868-fe00-4fe6-bd5b-81ecec8e48d5\">\n",
              "      <button class=\"colab-df-quickchart\" onclick=\"quickchart('df-230d6868-fe00-4fe6-bd5b-81ecec8e48d5')\"\n",
              "              title=\"Suggest charts.\"\n",
              "              style=\"display:none;\">\n",
              "\n",
              "<svg xmlns=\"http://www.w3.org/2000/svg\" height=\"24px\"viewBox=\"0 0 24 24\"\n",
              "     width=\"24px\">\n",
              "    <g>\n",
              "        <path d=\"M19 3H5c-1.1 0-2 .9-2 2v14c0 1.1.9 2 2 2h14c1.1 0 2-.9 2-2V5c0-1.1-.9-2-2-2zM9 17H7v-7h2v7zm4 0h-2V7h2v10zm4 0h-2v-4h2v4z\"/>\n",
              "    </g>\n",
              "</svg>\n",
              "      </button>\n",
              "    </div>\n",
              "\n",
              "<style>\n",
              "  .colab-df-quickchart {\n",
              "    background-color: #E8F0FE;\n",
              "    border: none;\n",
              "    border-radius: 50%;\n",
              "    cursor: pointer;\n",
              "    display: none;\n",
              "    fill: #1967D2;\n",
              "    height: 32px;\n",
              "    padding: 0 0 0 0;\n",
              "    width: 32px;\n",
              "  }\n",
              "\n",
              "  .colab-df-quickchart:hover {\n",
              "    background-color: #E2EBFA;\n",
              "    box-shadow: 0px 1px 2px rgba(60, 64, 67, 0.3), 0px 1px 3px 1px rgba(60, 64, 67, 0.15);\n",
              "    fill: #174EA6;\n",
              "  }\n",
              "\n",
              "  [theme=dark] .colab-df-quickchart {\n",
              "    background-color: #3B4455;\n",
              "    fill: #D2E3FC;\n",
              "  }\n",
              "\n",
              "  [theme=dark] .colab-df-quickchart:hover {\n",
              "    background-color: #434B5C;\n",
              "    box-shadow: 0px 1px 3px 1px rgba(0, 0, 0, 0.15);\n",
              "    filter: drop-shadow(0px 1px 2px rgba(0, 0, 0, 0.3));\n",
              "    fill: #FFFFFF;\n",
              "  }\n",
              "</style>\n",
              "\n",
              "    <script>\n",
              "      async function quickchart(key) {\n",
              "        const containerElement = document.querySelector('#' + key);\n",
              "        const charts = await google.colab.kernel.invokeFunction(\n",
              "            'suggestCharts', [key], {});\n",
              "      }\n",
              "    </script>\n",
              "\n",
              "      <script>\n",
              "\n",
              "function displayQuickchartButton(domScope) {\n",
              "  let quickchartButtonEl =\n",
              "    domScope.querySelector('#df-230d6868-fe00-4fe6-bd5b-81ecec8e48d5 button.colab-df-quickchart');\n",
              "  quickchartButtonEl.style.display =\n",
              "    google.colab.kernel.accessAllowed ? 'block' : 'none';\n",
              "}\n",
              "\n",
              "        displayQuickchartButton(document);\n",
              "      </script>\n",
              "      <style>\n",
              "    .colab-df-container {\n",
              "      display:flex;\n",
              "      flex-wrap:wrap;\n",
              "      gap: 12px;\n",
              "    }\n",
              "\n",
              "    .colab-df-convert {\n",
              "      background-color: #E8F0FE;\n",
              "      border: none;\n",
              "      border-radius: 50%;\n",
              "      cursor: pointer;\n",
              "      display: none;\n",
              "      fill: #1967D2;\n",
              "      height: 32px;\n",
              "      padding: 0 0 0 0;\n",
              "      width: 32px;\n",
              "    }\n",
              "\n",
              "    .colab-df-convert:hover {\n",
              "      background-color: #E2EBFA;\n",
              "      box-shadow: 0px 1px 2px rgba(60, 64, 67, 0.3), 0px 1px 3px 1px rgba(60, 64, 67, 0.15);\n",
              "      fill: #174EA6;\n",
              "    }\n",
              "\n",
              "    [theme=dark] .colab-df-convert {\n",
              "      background-color: #3B4455;\n",
              "      fill: #D2E3FC;\n",
              "    }\n",
              "\n",
              "    [theme=dark] .colab-df-convert:hover {\n",
              "      background-color: #434B5C;\n",
              "      box-shadow: 0px 1px 3px 1px rgba(0, 0, 0, 0.15);\n",
              "      filter: drop-shadow(0px 1px 2px rgba(0, 0, 0, 0.3));\n",
              "      fill: #FFFFFF;\n",
              "    }\n",
              "  </style>\n",
              "\n",
              "      <script>\n",
              "        const buttonEl =\n",
              "          document.querySelector('#df-c674ac8e-42a9-4b4c-b130-6512b5724ba7 button.colab-df-convert');\n",
              "        buttonEl.style.display =\n",
              "          google.colab.kernel.accessAllowed ? 'block' : 'none';\n",
              "\n",
              "        async function convertToInteractive(key) {\n",
              "          const element = document.querySelector('#df-c674ac8e-42a9-4b4c-b130-6512b5724ba7');\n",
              "          const dataTable =\n",
              "            await google.colab.kernel.invokeFunction('convertToInteractive',\n",
              "                                                     [key], {});\n",
              "          if (!dataTable) return;\n",
              "\n",
              "          const docLinkHtml = 'Like what you see? Visit the ' +\n",
              "            '<a target=\"_blank\" href=https://colab.research.google.com/notebooks/data_table.ipynb>data table notebook</a>'\n",
              "            + ' to learn more about interactive tables.';\n",
              "          element.innerHTML = '';\n",
              "          dataTable['output_type'] = 'display_data';\n",
              "          await google.colab.output.renderOutput(dataTable, element);\n",
              "          const docLink = document.createElement('div');\n",
              "          docLink.innerHTML = docLinkHtml;\n",
              "          element.appendChild(docLink);\n",
              "        }\n",
              "      </script>\n",
              "    </div>\n",
              "  </div>\n"
            ]
          },
          "metadata": {},
          "execution_count": 112
        }
      ]
    },
    {
      "cell_type": "code",
      "source": [
        "plot_tree(tree,'1')\n",
        "import matplotlib.pyplot as plt\n",
        "import matplotlib.image as mpimg\n",
        "\n",
        "# Replace 'image_filename.jpg' with the actual filename of your image.\n",
        "image_filename = '/content/drive/MyDrive/DecisionTreeAssignment/1.png'\n",
        "\n",
        "# Load the image using matplotlib.image\n",
        "img = mpimg.imread(image_filename)\n",
        "\n",
        "# Display the image using imshow\n",
        "plt.imshow(img)\n",
        "plt.axis('off')  # Turn off axis ticks and labels for a cleaner display\n",
        "plt.show()"
      ],
      "metadata": {
        "colab": {
          "base_uri": "https://localhost:8080/",
          "height": 406
        },
        "id": "NaRm6lGX3AKf",
        "outputId": "1df76ca8-4af3-47c2-e663-7331c41edf78"
      },
      "execution_count": null,
      "outputs": [
        {
          "output_type": "display_data",
          "data": {
            "text/plain": [
              "<Figure size 640x480 with 1 Axes>"
            ],
            "image/png": "[encoded data removed]"
          },
          "metadata": {}
        }
      ]
    },
    {
      "cell_type": "code",
      "source": [
        "selected_columns = ['Patrons', 'Hungry','Type','Fri/Sat','Output']\n",
        "filtered_df_test = df_test[selected_columns]\n",
        "print(filtered_df_test)\n",
        "Accuracy=evaluate(tree,filtered_df_test,'Output')\n",
        "print(f'Accuracy of model is {Accuracy*100} %')"
      ],
      "metadata": {
        "colab": {
          "base_uri": "https://localhost:8080/"
        },
        "id": "Dl--0i_RuhVG",
        "outputId": "5b1dc25a-890b-4977-8571-aa4b1ee89f47"
      },
      "execution_count": null,
      "outputs": [
        {
          "output_type": "stream",
          "name": "stdout",
          "text": [
            "  Patrons Hungry    Type Fri/Sat Output\n",
            "0    None     No    Thai      No     No\n",
            "1    Full    Yes  Burger     Yes    Yes\n",
            "2    Full     No  French      No     No\n",
            "Accuracy of model is 100.0 %\n"
          ]
        }
      ]
    },
    {
      "cell_type": "code",
      "source": [
        "df_predict= pd.read_csv('/content/drive/MyDrive/DecisionTreeAssignment/restaurant_predict.csv')\n",
        "df_predict = df_test.applymap(strip_spaces)"
      ],
      "metadata": {
        "id": "m_ZS3zVFvzOb"
      },
      "execution_count": null,
      "outputs": []
    },
    {
      "cell_type": "code",
      "source": [
        "selected_columns = ['Patrons', 'Hungry','Type','Fri/Sat','Output']\n",
        "filtered_df_predict = df_predict[selected_columns]\n",
        "for index, row in filtered_df_predict.iterrows():\n",
        " print(f'Predicted value for row {index+1} ==> [{row}]  is ===================>',predict(tree, filtered_df_predict.iloc[index]))\n"
      ],
      "metadata": {
        "colab": {
          "base_uri": "https://localhost:8080/"
        },
        "id": "mhJbynno4KiY",
        "outputId": "8770f561-e2c2-48d6-97d1-b7a0fda58572"
      },
      "execution_count": null,
      "outputs": [
        {
          "output_type": "stream",
          "name": "stdout",
          "text": [
            "Predicted value for row 1 ==> [Patrons    None\n",
            "Hungry       No\n",
            "Type       Thai\n",
            "Fri/Sat      No\n",
            "Output       No\n",
            "Name: 0, dtype: object]  is ===================> No\n",
            "Predicted value for row 2 ==> [Patrons      Full\n",
            "Hungry        Yes\n",
            "Type       Burger\n",
            "Fri/Sat       Yes\n",
            "Output        Yes\n",
            "Name: 1, dtype: object]  is ===================> Yes\n",
            "Predicted value for row 3 ==> [Patrons      Full\n",
            "Hungry         No\n",
            "Type       French\n",
            "Fri/Sat        No\n",
            "Output         No\n",
            "Name: 2, dtype: object]  is ===================> No\n"
          ]
        }
      ]
    }
  ]
}